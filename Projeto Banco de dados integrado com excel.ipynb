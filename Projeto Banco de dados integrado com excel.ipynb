{
 "cells": [
  {
   "cell_type": "code",
   "execution_count": 1,
   "id": "3af72a64-ffed-45eb-9787-16fb9c1cc014",
   "metadata": {},
   "outputs": [],
   "source": [
    "#1- Importar as bibliotecas necessárias\n",
    "import tkinter as tk\n",
    "import sqlite3\n",
    "import pandas as pd"
   ]
  },
  {
   "cell_type": "code",
   "execution_count": 2,
   "id": "9aa7d0ea-e2d7-49d9-9f2a-f8e33baab002",
   "metadata": {},
   "outputs": [
    {
     "data": {
      "text/plain": [
       "<sqlite3.Cursor at 0x167d34aed40>"
      ]
     },
     "execution_count": 2,
     "metadata": {},
     "output_type": "execute_result"
    }
   ],
   "source": [
    "# 2- Criar banco de dados e tabela\n",
    "conexao = sqlite3.connect('C:/Users/victo/Desktop/Udemy curso/Jupyter projects/Banco_de_dados/banco_clientes.db')\n",
    "c= conexao.cursor()\n",
    "c.execute('''CREATE TABLE clientes (nome text,sobrenome text, email text, telefone text)''')\n"
   ]
  },
  {
   "cell_type": "code",
   "execution_count": 3,
   "id": "7d2226c3-e345-49e2-9c2a-fe9cf0d3fca1",
   "metadata": {},
   "outputs": [],
   "source": [
    "conexao.commit()\n",
    "conexao.close()"
   ]
  },
  {
   "cell_type": "code",
   "execution_count": 4,
   "id": "7d0772cc-7b31-4190-947d-8f3cb0b01a51",
   "metadata": {},
   "outputs": [],
   "source": [
    "#3-Criar cadastro clientes \n",
    "def cadastrar_cliente():\n",
    "    conexao = sqlite3.connect('C:/Users/victo/Desktop/Udemy curso/Jupyter projects/Banco_de_dados/banco_clientes.db')\n",
    "    c= conexao.cursor()\n",
    "    c.execute(\"INSERT INTO clientes VALUES(:nome, :sobrenome, :email, :telefone)\",\n",
    "             {\n",
    "                 'nome': entry_nome.get(),\n",
    "                 'sobrenome': entry_sobrenome.get(),\n",
    "                 'email': entry_email.get(),\n",
    "                 'telefone': entry_telefone.get()\n",
    "             })\n",
    "# 4- Deletar nomes do campo após o nome inserido \n",
    "    entry_nome.delete(0, 'end')\n",
    "    entry_sobrenome.delete(0, 'end')\n",
    "    entry_email.delete(0, 'end')\n",
    "    entry_telefone.delete(0, 'end')\n",
    "\n",
    "    conexao.commit()\n",
    "    conexao.close()\n",
    "\n",
    "# 5- Exportar clientes para o excel \n",
    "def exporta_clientes():\n",
    "    conexao = sqlite3.connect('C:/Users/victo/Downloads/Python 2024/banco_de_dados/banco_clientes.db')\n",
    "    c= conexao.cursor()\n",
    "    c.execute(\"SELECT *,oid FROM clientes \")\n",
    "\n",
    "    clientes_cadastrados = c.fetchall()\n",
    "    clientes_cadastrados = pd.DataFrame(clientes_cadastrados, columns=['nome','sobrenome', 'email', 'telefone', 'id_banco'])\n",
    "    clientes_cadastrados.to_excel('banco_clientes.xlsx')\n",
    "\n",
    "    print(clientes_cadastrados)\n",
    "\n",
    "    conexao.commit()\n",
    "    conexao.close()"
   ]
  },
  {
   "cell_type": "code",
   "execution_count": 5,
   "id": "29c7a848-e0f0-4370-b8b0-41766faff801",
   "metadata": {},
   "outputs": [
    {
     "data": {
      "text/plain": [
       "''"
      ]
     },
     "execution_count": 5,
     "metadata": {},
     "output_type": "execute_result"
    }
   ],
   "source": [
    "#6- Criar o título da janela \n",
    "janela = tk.Tk()\n",
    "janela.title('Ferramenta de cadastro do cliente')"
   ]
  },
  {
   "cell_type": "code",
   "execution_count": 6,
   "id": "791884f5-a903-4721-b3e2-ee859cd7b0ad",
   "metadata": {},
   "outputs": [],
   "source": [
    "#7- Criar etiquetas \n",
    "label_nome = tk.Label(janela, text ='Nome', width=30)\n",
    "label_nome.grid(row=0, column =0, padx=10, pady=10)\n",
    "\n",
    "label_sobrenome = tk.Label(janela, text ='Sobrenome', width=30)\n",
    "label_sobrenome.grid(row=1, column =0, padx=10, pady=10)\n",
    "\n",
    "label_email = tk.Label(janela, text ='E-mail', width=30)\n",
    "label_email.grid(row=2, column =0, padx=10, pady=10)\n",
    "\n",
    "label_telefone = tk.Label(janela, text ='Telefone', width=30)\n",
    "label_telefone.grid(row=3, column =0, padx=10, pady=10)"
   ]
  },
  {
   "cell_type": "code",
   "execution_count": 7,
   "id": "1dbea94b-7929-435c-92e8-dbeb721c7edf",
   "metadata": {},
   "outputs": [],
   "source": [
    "#8- Criar widgets (campos para inserir textos)\n",
    "entry_nome = tk.Entry(janela, text ='Nome', width=30)\n",
    "entry_nome.grid(row=0, column =1, padx=10, pady=10)\n",
    "\n",
    "entry_sobrenome = tk.Entry(janela, text ='Sobrenome', width=30)\n",
    "entry_sobrenome.grid(row=1, column =1, padx=10, pady=10)\n",
    "\n",
    "entry_email = tk.Entry(janela, text ='Email', width=30)\n",
    "entry_email.grid(row=2, column =1, padx=10, pady=10)\n",
    "\n",
    "entry_telefone = tk.Entry(janela, text ='Telefone', width=30)\n",
    "entry_telefone.grid(row=3, column =1, padx=10, pady=10)\n"
   ]
  },
  {
   "cell_type": "code",
   "execution_count": null,
   "id": "28bd0410-ba83-4c75-ac3e-6884d2052727",
   "metadata": {},
   "outputs": [],
   "source": [
    "#9- Criar butões de cadastrar e exportar \n",
    "botao_cadastrar = tk.Button(janela, text ='Cadastrar Cliente', command= cadastrar_cliente)\n",
    "botao_cadastrar.grid(row=4, column =0, padx=10, pady=10, columnspan=2, ipadx=80)\n",
    "\n",
    "botao_exportar = tk.Button(janela, text ='Exportar Base de Cliente', command= exporta_clientes)\n",
    "botao_exportar.grid(row=5, column =0, padx=10, pady=10, columnspan=2, ipadx=80)\n",
    "\n",
    "janela.mainloop()"
   ]
  },
  {
   "cell_type": "code",
   "execution_count": null,
   "id": "741d1d20-e4aa-41d1-81a6-558d7c46adf4",
   "metadata": {},
   "outputs": [],
   "source": []
  }
 ],
 "metadata": {
  "kernelspec": {
   "display_name": "Python 3 (ipykernel)",
   "language": "python",
   "name": "python3"
  },
  "language_info": {
   "codemirror_mode": {
    "name": "ipython",
    "version": 3
   },
   "file_extension": ".py",
   "mimetype": "text/x-python",
   "name": "python",
   "nbconvert_exporter": "python",
   "pygments_lexer": "ipython3",
   "version": "3.11.7"
  }
 },
 "nbformat": 4,
 "nbformat_minor": 5
}
